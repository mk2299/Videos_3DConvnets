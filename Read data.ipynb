{
 "cells": [
  {
   "cell_type": "code",
   "execution_count": 1,
   "metadata": {},
   "outputs": [],
   "source": [
    "%matplotlib inline\n",
    "%load_ext autoreload\n",
    "%autoreload 2"
   ]
  },
  {
   "cell_type": "code",
   "execution_count": 2,
   "metadata": {},
   "outputs": [],
   "source": [
    "import matplotlib.pyplot as plt\n",
    "import numpy as np\n",
    "import os\n",
    "import h5py"
   ]
  },
  {
   "cell_type": "markdown",
   "metadata": {},
   "source": [
    "# Extract trial idx"
   ]
  },
  {
   "cell_type": "code",
   "execution_count": null,
   "metadata": {},
   "outputs": [],
   "source": [
    "all_indices = {}\n",
    "for file in [mouse +'-preproc1.h5', mouse +'-preproc2.h5', mouse +'-preproc3.h5']:\n",
    "    filename = \"./\" + file \n",
    "    with h5py.File(filename, \"r\") as f:\n",
    "        trial_idx_split = {}\n",
    "        trial_idx = np.asarray(f['trial_idx'])\n",
    "        for split in ['train', 'val', 'test']:\n",
    "            trial_idx_split[split] = trial_idx[np.asarray(f[ split + '_idx'])]\n",
    "        all_indices[file] =  trial_idx_split\n",
    "        \n",
    "np.save('trial_idx_' + mouse + '.npy', all_indices)\n"
   ]
  },
  {
   "cell_type": "markdown",
   "metadata": {},
   "source": [
    "_United IDs are same across all files_"
   ]
  },
  {
   "cell_type": "code",
   "execution_count": null,
   "metadata": {},
   "outputs": [],
   "source": [
    "filename = \"./\" + mouse +'-preproc1.h5'\n",
    "f = h5py.File(filename, \"r\")\n",
    "vox_mask = np.logical_and(np.asarray(f['neurons']['layer'])==b'L2/3', np.asarray(f['neurons']['area'])==b'V1')\n",
    "np.save('unit_ids_' + mouse + '.npy', np.asarray(f['neurons']['unit_ids'])[vox_mask])"
   ]
  },
  {
   "cell_type": "code",
   "execution_count": null,
   "metadata": {},
   "outputs": [],
   "source": [
    "np.asarray(f['neurons']['unit_ids'])[vox_mask].shape"
   ]
  },
  {
   "cell_type": "markdown",
   "metadata": {},
   "source": [
    "# Data extraction"
   ]
  },
  {
   "cell_type": "code",
   "execution_count": 3,
   "metadata": {},
   "outputs": [],
   "source": [
    "mouse = '17358-5-3'"
   ]
  },
  {
   "cell_type": "code",
   "execution_count": 4,
   "metadata": {},
   "outputs": [],
   "source": [
    "filename = \"./\" + mouse + \"-preproc2.h5\"\n",
    "f = h5py.File(filename, \"r\")"
   ]
  },
  {
   "cell_type": "code",
   "execution_count": 5,
   "metadata": {},
   "outputs": [
    {
     "data": {
      "text/plain": [
       "1740"
      ]
     },
     "execution_count": 5,
     "metadata": {},
     "output_type": "execute_result"
    }
   ],
   "source": [
    "vox_mask = np.logical_and(np.asarray(f['neurons']['layer'])==b'L2/3', np.asarray(f['neurons']['area'])==b'V1')\n",
    "vox_mask.sum()"
   ]
  },
  {
   "cell_type": "code",
   "execution_count": 6,
   "metadata": {},
   "outputs": [],
   "source": [
    "#list_IDs = []\n",
    "stims = []\n",
    "resps = []\n",
    "behav = []\n",
    "eye = []\n",
    "for file in [mouse +'-preproc1.h5', mouse +'-preproc2.h5', mouse +'-preproc3.h5']:\n",
    "    filename = \"./\" + file \n",
    "    with h5py.File(filename, \"r\") as f:\n",
    "        train_idx = np.asarray(f['train_idx'])\n",
    "        train_keys = np.asarray(list(f['inputs'].keys()))[train_idx]\n",
    "        \n",
    "        for key in train_keys:\n",
    "            #print(key)\n",
    "            img = np.asarray(f['inputs'][key])\n",
    "            resp = np.asarray(f['responses'][key])[:,vox_mask]\n",
    "            behav.append(np.asarray(f['behavior'][key]))\n",
    "            eye.append(np.asarray(f['eye_position'][key]))\n",
    "            stims.append(img)\n",
    "            resps.append(resp)\n",
    "    "
   ]
  },
  {
   "cell_type": "markdown",
   "metadata": {},
   "source": [
    "# Extract validation data"
   ]
  },
  {
   "cell_type": "code",
   "execution_count": 11,
   "metadata": {},
   "outputs": [],
   "source": [
    "stims_val = []\n",
    "resps_val = []\n",
    "behav_val = []\n",
    "eye_val = []\n",
    "for file in [mouse + '-preproc1.h5', mouse + '-preproc2.h5', mouse + '-preproc3.h5']:\n",
    "    filename = \"./\" + file \n",
    "    with h5py.File(filename, \"r\") as f:\n",
    "        val_idx = np.asarray(f['val_idx'])\n",
    "        val_keys = np.asarray(list(f['inputs'].keys()))[val_idx]\n",
    "        \n",
    "        for key in val_keys:\n",
    "            #print(key)\n",
    "            img = np.asarray(f['inputs'][key])\n",
    "            resp = np.asarray(f['responses'][key])[:,vox_mask]\n",
    "            behav_val.append(np.asarray(f['behavior'][key]))\n",
    "            eye_val.append(np.asarray(f['eye_position'][key]))   \n",
    "            stims_val.append(img)\n",
    "            resps_val.append(resp)"
   ]
  },
  {
   "cell_type": "code",
   "execution_count": 12,
   "metadata": {},
   "outputs": [
    {
     "data": {
      "text/plain": [
       "(1101, (450, 3), (4692,))"
      ]
     },
     "execution_count": 12,
     "metadata": {},
     "output_type": "execute_result"
    }
   ],
   "source": [
    "len(behav), behav[0].shape, resp[0].shape"
   ]
  },
  {
   "cell_type": "code",
   "execution_count": 13,
   "metadata": {},
   "outputs": [],
   "source": [
    "import pickle\n",
    "with open('./' + mouse + '.pkl', 'wb') as output:\n",
    "    pickle.dump({'stims_train': stims, 'responses_train': resps, 'behav_train': behav, 'eye_train': eye,  'stims_val': stims_val, 'responses_val':resps_val, 'behav_val': behav_val, 'eye_val': eye_val}, output)"
   ]
  },
  {
   "cell_type": "markdown",
   "metadata": {},
   "source": [
    "# Test data"
   ]
  },
  {
   "cell_type": "code",
   "execution_count": 14,
   "metadata": {},
   "outputs": [],
   "source": [
    "stims_test = []\n",
    "resps_test = []\n",
    "behav_test = []\n",
    "eye_test = []\n",
    "\n",
    "for file in [mouse + '-preproc1.h5', mouse +  '-preproc2.h5', mouse + '-preproc3.h5']:\n",
    "    filename = \"./\" + file \n",
    "    with h5py.File(filename, \"r\") as f:\n",
    "        test_idx = np.asarray(f['test_idx'])\n",
    "        test_keys = np.asarray(list(f['inputs'].keys()))[test_idx]\n",
    "        \n",
    "        for key in test_keys:\n",
    "            #print(key)\n",
    "            img = np.asarray(f['inputs'][key])\n",
    "            resp = np.asarray(f['responses'][key])#[:,vox_mask]\n",
    "            behav_test.append(np.asarray(f['behavior'][key]))\n",
    "            eye_test.append(np.asarray(f['eye_position'][key]))   \n",
    "            \n",
    "            stims_test.append(img)\n",
    "            resps_test.append(resp)"
   ]
  },
  {
   "cell_type": "code",
   "execution_count": 15,
   "metadata": {},
   "outputs": [],
   "source": [
    "with open('./' + mouse + '_test.pkl', 'wb') as output:\n",
    "    pickle.dump({'stims_test': stims_test, 'responses_test': resps_test, 'behav_test': behav_test, 'eye_test': eye_test}, output)"
   ]
  },
  {
   "cell_type": "code",
   "execution_count": 17,
   "metadata": {},
   "outputs": [],
   "source": [
    "mean_resps = np.mean([np.mean(resps[i],0) for i in range(len(resps))],0)\n",
    "np.save('./' + mouse + '_mean.npy', mean_resps)"
   ]
  },
  {
   "cell_type": "code",
   "execution_count": 19,
   "metadata": {},
   "outputs": [
    {
     "name": "stderr",
     "output_type": "stream",
     "text": [
      "/nfs01/shared_software/anaconda3/envs/meenakshi3/lib/python3.6/site-packages/numpy/core/_asarray.py:83: VisibleDeprecationWarning: Creating an ndarray from ragged nested sequences (which is a list-or-tuple of lists-or-tuples-or ndarrays with different lengths or shapes) is deprecated. If you meant to do this, you must specify 'dtype=object' when creating the ndarray\n",
      "  return array(a, dtype, copy=False, order=order)\n"
     ]
    }
   ],
   "source": [
    "eye = np.asarray(eye)\n",
    "mean_eye = np.mean([np.mean(eye[i],0) for i in range(len(eye))],0)\n",
    "np.save('./' + mouse + '_mean_eye.npy', mean_eye)"
   ]
  }
 ],
 "metadata": {
  "kernelspec": {
   "display_name": "Python 3",
   "language": "python",
   "name": "python3"
  },
  "language_info": {
   "codemirror_mode": {
    "name": "ipython",
    "version": 3
   },
   "file_extension": ".py",
   "mimetype": "text/x-python",
   "name": "python",
   "nbconvert_exporter": "python",
   "pygments_lexer": "ipython3",
   "version": "3.6.7"
  }
 },
 "nbformat": 4,
 "nbformat_minor": 2
}
