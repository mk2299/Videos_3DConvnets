{
 "cells": [
  {
   "cell_type": "code",
   "execution_count": 1,
   "metadata": {},
   "outputs": [
    {
     "name": "stderr",
     "output_type": "stream",
     "text": [
      "Using TensorFlow backend.\n",
      "/home/mk2299/Mice_experiments/Sinz2018_NIPS/nips2018/architectures/cores.py:18: UserWarning: Could not import CajalUnit. You won't be able to use the NetGardCore\n",
      "  warn(\"Could not import CajalUnit. You won't be able to use the NetGardCore\")\n"
     ]
    }
   ],
   "source": [
    "import os \n",
    "os.environ[\"CUDA_DEVICE_ORDER\"] = \"PCI_BUS_ID\"\n",
    "os.environ[\"CUDA_VISIBLE_DEVICES\"] = \"2,3\"\n",
    "from keras.models import *\n",
    "from keras.layers import *\n",
    "from keras import initializers\n",
    "import sys\n",
    "import numpy as np\n",
    "import h5py\n",
    "import tensorflow as tf\n",
    "sys.path.append('/home/mk2299/Mice_experiments/attorch')\n",
    "sys.path.append('/home/mk2299/Mice_experiments/Sinz2018_NIPS/')\n",
    "sys.path.append('/home/mk2299/Mice_experiments/Sinz2018_NIPS/my_exp/')\n",
    "from scipy import stats\n",
    "import tensorflow.contrib.slim as slim\n",
    "import hashlib\n",
    "import inspect\n",
    "import random\n",
    "from tensorflow import losses\n",
    "from numpy import pi\n",
    "from collections import OrderedDict\n",
    "from keras import optimizers\n",
    "#from attorch.losses import PoissonLoss3d\n",
    "from base_models import Readout, smoothness_regularizer_2d, group_sparsity_regularizer_2d\n",
    "from nips2018.architectures.readouts import SpatialTransformerPooled3dReadout, ST3dSharedGridStopGradientReadout, FullyConnectedReadout\n",
    "from nips2018.architectures.cores import StackedFeatureGRUCore, Stacked3dCore, Stacked2dCore\n",
    "from nips2018.architectures.base import CorePlusReadout3d\n",
    "from attorch.layers import elu1, Elu1\n",
    "import torch.nn as nn\n",
    "from torch.nn import functional as F\n",
    "import torch\n",
    "import pickle\n",
    "from itertools import count\n",
    "from tqdm import tqdm\n",
    "from collections import namedtuple\n",
    "from attorch.train import early_stopping, cycle_datasets\n",
    "from itertools import chain, repeat\n",
    "from nips2018.utils.measures import corr\n",
    "from scipy.stats import pearsonr\n",
    "from models_attention import TimeDistributed, ConvLSTM\n",
    "from models.resnet import generate_model"
   ]
  },
  {
   "cell_type": "code",
   "execution_count": 2,
   "metadata": {},
   "outputs": [],
   "source": [
    "def ResNet_core(freeze = False, pretrained = False):\n",
    "    core = generate_model(model_depth = 18) \n",
    "    if pretrained:\n",
    "        pretrain_mdl = torch.load('./pretrained_weights/r3d18_K_200ep.pth')\n",
    "        core.load_state_dict(pretrain_mdl['state_dict'])\n",
    "    if freeze:\n",
    "        for param in core.parameters():\n",
    "            param.requires_grad = False\n",
    "    return core"
   ]
  },
  {
   "cell_type": "code",
   "execution_count": 3,
   "metadata": {},
   "outputs": [],
   "source": [
    "core = ResNet_core()"
   ]
  },
  {
   "cell_type": "code",
   "execution_count": 5,
   "metadata": {},
   "outputs": [
    {
     "name": "stdout",
     "output_type": "stream",
     "text": [
      "---------------------------+--------------------------------------------------------------------------------\n",
      "ST3dSharedGridStopGrad...  | Ignoring input {} when creating ST3dSharedGridStopGradientReadout\n",
      "ST3dSharedGridStopGrad...  | \tNeuron change detected from -1 to 4692 ! Resetting grid!\n",
      "ST3dSharedGridStopGrad...  | \tGradient for 0 will pass\n"
     ]
    }
   ],
   "source": [
    "\n",
    "n_neurons = OrderedDict([('0', 4692)])#[(k, v.n_neurons) for k, v in f['neurons'].items()])\n",
    "\n",
    "readout = ST3dSharedGridStopGradientReadout(torch.Size([64, 150,18,32]),#[64, 75, 9, 16] #torch.Size([64, 150, 18,32]), \n",
    "                                               n_neurons, \n",
    "                                               positive=False,  \n",
    "                                               gamma_features=1., \n",
    "                                               pool_steps=2,\n",
    "                                                kernel_size=4,\n",
    "                                                stride=4,\n",
    "                                            gradient_pass_mod=3\n",
    "                                           )\n"
   ]
  },
  {
   "cell_type": "code",
   "execution_count": 6,
   "metadata": {},
   "outputs": [],
   "source": [
    "model = CorePlusReadout3d(core, readout, nonlinearity=Elu1(), \n",
    "                        shifter=None, modulator=None, burn_in=15)\n"
   ]
  },
  {
   "cell_type": "code",
   "execution_count": 7,
   "metadata": {},
   "outputs": [
    {
     "data": {
      "text/plain": [
       "34477944"
      ]
     },
     "execution_count": 7,
     "metadata": {},
     "output_type": "execute_result"
    }
   ],
   "source": [
    "sum(p.numel() for p in model.parameters() if p.requires_grad)"
   ]
  },
  {
   "cell_type": "markdown",
   "metadata": {},
   "source": [
    "# Load data"
   ]
  },
  {
   "cell_type": "code",
   "execution_count": 10,
   "metadata": {},
   "outputs": [],
   "source": [
    "class Dataset(torch.utils.data.Dataset):\n",
    "  'Characterizes a dataset for PyTorch'\n",
    "  def __init__(self, sets = 'train'):\n",
    "        'Initialization'\n",
    "        self.sets = sets\n",
    "        with open('/home/mk2299/Mice_experiments/Sinz2018_NIPS/Sinz2018_NIPS_data/cache/17797-8-5.pkl', 'rb') as pkl_file:\n",
    "            self.data_dict = pickle.load(pkl_file)\n",
    "        self.list_IDs = np.arange(len(self.data_dict['stims_' + sets]))\n",
    "\n",
    "  def __len__(self):\n",
    "        'Denotes the total number of samples'\n",
    "        return len(self.list_IDs)\n",
    "\n",
    "  def __getitem__(self, index):\n",
    "        'Generates one sample of data'\n",
    "        # Select sample\n",
    "        ID = self.list_IDs[index]\n",
    "\n",
    "        # Load data and get label\n",
    "        X = self.data_dict['stims_' + self.sets][ID]\n",
    "        y = self.data_dict['responses_' + self.sets][ID]\n",
    "        start_idx = np.random.randint(X.shape[1]-151)\n",
    "        return np.repeat(X[:,start_idx:start_idx + 150], 3, 0), (y[start_idx:start_idx + 150]) #X[:,start_idx:start_idx + 150]"
   ]
  },
  {
   "cell_type": "markdown",
   "metadata": {},
   "source": [
    "# Load training and validation generators"
   ]
  },
  {
   "cell_type": "code",
   "execution_count": 11,
   "metadata": {},
   "outputs": [],
   "source": [
    "params = {'batch_size': 4,\n",
    "          'shuffle': True,\n",
    "          'num_workers': 6}\n",
    "\n",
    "# Generators\n",
    "training_set = Dataset(sets = 'train')\n",
    "training_generator = torch.utils.data.DataLoader(training_set, **params)\n",
    "\n",
    "validation_set = Dataset(sets = 'val')\n",
    "validation_generator = torch.utils.data.DataLoader(validation_set, **params)\n"
   ]
  },
  {
   "cell_type": "markdown",
   "metadata": {},
   "source": [
    "_Loss function_"
   ]
  },
  {
   "cell_type": "code",
   "execution_count": 14,
   "metadata": {},
   "outputs": [],
   "source": [
    "class PoissonLoss3d(nn.Module):\n",
    "    def __init__(self, bias=1e-16, per_neuron=False):\n",
    "        super().__init__()\n",
    "        self.bias = bias\n",
    "        self.per_neuron = per_neuron\n",
    "\n",
    "    def forward(self, output, target):\n",
    "        #_assert_no_grad(target)\n",
    "        lag = target.size(1) - output.size(1)\n",
    "        loss =  (output - target[:, lag:, :] * torch.log(output + self.bias))\n",
    "        if not self.per_neuron:\n",
    "            return loss.mean()\n",
    "        else:\n",
    "            return loss.view(-1, loss.shape[-1]).mean(dim=0)"
   ]
  },
  {
   "cell_type": "code",
   "execution_count": 15,
   "metadata": {},
   "outputs": [
    {
     "name": "stdout",
     "output_type": "stream",
     "text": [
      "ST3dSharedGridStopGrad...  | Initializing with mu_dict: 0: 4692\n"
     ]
    }
   ],
   "source": [
    "img_shape = training_set.__getitem__(0)[0] #list(trainloaders.values())[0].dataset.img_shape\n",
    "criterion = PoissonLoss3d()\n",
    "n_datasets = training_set.__len__() #len(trainloaders)\n",
    "acc = 1 # accumulate gradient over this many steps\n",
    "\n",
    "\n",
    "# --- setup objective\n",
    "grad_passes = 0\n",
    "for ro in model.readout.values():\n",
    "    grad_passes += int(not ro.stop_grad)\n",
    "\n",
    "\n",
    "# --- initialize\n",
    "\n",
    "mu_dict = OrderedDict([\n",
    "    (k, torch.Tensor(np.load('/home/mk2299/Mice_experiments/Sinz2018_NIPS/Sinz2018_NIPS_data/cache/17797-8-5_mean.npy'))) for k in ['0']\n",
    "])\n",
    "model.readout.initialize(mu_dict)\n",
    "#model.core.initialize()\n",
    "\n",
    "model = model.cuda()"
   ]
  },
  {
   "cell_type": "code",
   "execution_count": 16,
   "metadata": {},
   "outputs": [],
   "source": [
    "def full_objective(model, readout_key, inputs, targets):\n",
    "    outputs = model(inputs, '0')\n",
    "    return (criterion(outputs, targets)\n",
    "            #+ (model.core.regularizer() / grad_passes if not model.readout[readout_key].stop_grad else 0)\n",
    "            + model.readout.regularizer(readout_key).cuda(0)) / acc\n"
   ]
  },
  {
   "cell_type": "code",
   "execution_count": 17,
   "metadata": {},
   "outputs": [],
   "source": [
    "PerformanceScores = namedtuple('PerformanceScores', ['pearson'])\n",
    "\n",
    "\n",
    "def compute_scores(y, y_hat, axis=0):\n",
    "    pearson = corr(y, y_hat, axis=axis)\n",
    "    return PerformanceScores(pearson=pearson)\n",
    "\n",
    "def compute_predictions(loader, model, readout_key = '0', reshape=True, stack=True, return_lag=False):\n",
    "    y, y_hat = [], []\n",
    "    for x_val, y_val in loader:\n",
    "        neurons = y_val.size(-1)\n",
    "\n",
    "        y_mod = model(x_val.cuda(), readout_key).data.cpu().numpy()\n",
    "        \n",
    "\n",
    "        lag = y_val.shape[1] - y_mod.shape[1]\n",
    "        if reshape:\n",
    "            y.append(y_val[:, lag:, :].numpy().reshape((-1, neurons)))\n",
    "            y_hat.append(y_mod.reshape((-1, neurons)))\n",
    "        else:\n",
    "            y.append(y_val[:, lag:, :].numpy())\n",
    "            y_hat.append(y_mod)\n",
    "    if stack:\n",
    "        y, y_hat = np.vstack(y), np.vstack(y_hat)\n",
    "    if not return_lag:\n",
    "        return y, y_hat\n",
    "    else:\n",
    "        return y, y_hat, lag"
   ]
  },
  {
   "cell_type": "code",
   "execution_count": 18,
   "metadata": {},
   "outputs": [
    {
     "name": "stdout",
     "output_type": "stream",
     "text": [
      "Training with learning rate 0.005\n",
      "Val correlation: 0.065312155\n",
      "Val correlation: 0.037973102\n",
      "Val correlation: 0.08348951\n",
      "Val correlation: 0.08528944\n",
      "Val correlation: 0.089917086\n",
      "Val correlation: 0.088668704\n",
      "Val correlation: 0.10779953\n",
      "Val correlation: 0.095277585\n",
      "Val correlation: 0.09773019\n",
      "Val correlation: 0.11485365\n",
      "Val correlation: 0.10524139\n",
      "Val correlation: 0.11376563\n",
      "Val correlation: 0.117478706\n",
      "Val correlation: 0.117821984\n",
      "Val correlation: 0.116556935\n",
      "Val correlation: 0.1211706\n",
      "Val correlation: 0.11598068\n",
      "Val correlation: 0.116227716\n",
      "Val correlation: 0.121276125\n",
      "Val correlation: 0.1080376\n",
      "Val correlation: 0.12456555\n",
      "Val correlation: 0.12830009\n",
      "Val correlation: 0.12937419\n",
      "Val correlation: 0.13104615\n",
      "Val correlation: 0.13013989\n",
      "Val correlation: 0.13635375\n",
      "Val correlation: 0.12942766\n",
      "Val correlation: 0.13200165\n",
      "Val correlation: 0.13442819\n",
      "Val correlation: 0.13207595\n",
      "Val correlation: 0.12259804\n",
      "Val correlation: 0.13267268\n",
      "Val correlation: 0.13031255\n",
      "Val correlation: 0.14219357\n",
      "Val correlation: 0.13863787\n",
      "Val correlation: 0.13055477\n",
      "Val correlation: 0.11816206\n",
      "Val correlation: 0.13856299\n",
      "Val correlation: 0.1409271\n",
      "Val correlation: 0.14144625\n",
      "Val correlation: 0.13629213\n",
      "Val correlation: 0.13659658\n",
      "Val correlation: 0.13515212\n",
      "Val correlation: 0.13230622\n",
      "Val correlation: 0.1429761\n",
      "Val correlation: 0.13937333\n",
      "Val correlation: 0.13519734\n",
      "Val correlation: 0.14179857\n",
      "Val correlation: 0.13179752\n",
      "Val correlation: 0.13390371\n",
      "Val correlation: 0.14174885\n",
      "Val correlation: 0.13317473\n",
      "Val correlation: 0.13366877\n",
      "Val correlation: 0.14089146\n",
      "Val correlation: 0.14178939\n",
      "Val correlation: 0.13629423\n",
      "Val correlation: 0.13902278\n",
      "Val correlation: 0.13862088\n",
      "Val correlation: 0.13818999\n",
      "Val correlation: 0.13852087\n",
      "Val correlation: 0.141388\n",
      "Val correlation: 0.13989519\n",
      "Val correlation: 0.14140642\n",
      "Val correlation: 0.14252786\n",
      "Val correlation: 0.13541465\n",
      "Val correlation: 0.13777545\n",
      "Val correlation: 0.135613\n",
      "Val correlation: 0.14252768\n",
      "Val correlation: 0.13931422\n",
      "Val correlation: 0.14462335\n",
      "Val correlation: 0.14364834\n",
      "Val correlation: 0.1472046\n",
      "Val correlation: 0.1381817\n",
      "Val correlation: 0.14177932\n",
      "Val correlation: 0.14410146\n",
      "Val correlation: 0.1296052\n",
      "Val correlation: 0.14112632\n",
      "Val correlation: 0.13892436\n",
      "Val correlation: 0.13940433\n",
      "Val correlation: 0.14088711\n",
      "Val correlation: 0.13675267\n",
      "Val correlation: 0.13641326\n",
      "Val correlation: 0.13624837\n",
      "Val correlation: 0.14234525\n",
      "Val correlation: 0.1468995\n",
      "Val correlation: 0.1420144\n",
      "Val correlation: 0.13874379\n",
      "Val correlation: 0.14250639\n",
      "Val correlation: 0.14510074\n",
      "Val correlation: 0.13694917\n",
      "Val correlation: 0.138819\n",
      "Val correlation: 0.13916801\n",
      "Val correlation: 0.14181261\n",
      "Val correlation: 0.14156915\n",
      "Val correlation: 0.14240338\n"
     ]
    },
    {
     "ename": "KeyboardInterrupt",
     "evalue": "",
     "output_type": "error",
     "traceback": [
      "\u001b[0;31m---------------------------------------------------------------------------\u001b[0m",
      "\u001b[0;31mKeyboardInterrupt\u001b[0m                         Traceback (most recent call last)",
      "\u001b[0;32m<ipython-input-18-127695f5b4c9>\u001b[0m in \u001b[0;36m<module>\u001b[0;34m()\u001b[0m\n\u001b[1;32m     13\u001b[0m         \u001b[0;32mfor\u001b[0m \u001b[0mx_batch\u001b[0m\u001b[0;34m,\u001b[0m \u001b[0my_batch\u001b[0m \u001b[0;32min\u001b[0m \u001b[0mtraining_generator\u001b[0m\u001b[0;34m:\u001b[0m\u001b[0;34m\u001b[0m\u001b[0;34m\u001b[0m\u001b[0m\n\u001b[1;32m     14\u001b[0m \u001b[0;34m\u001b[0m\u001b[0m\n\u001b[0;32m---> 15\u001b[0;31m             \u001b[0mobj\u001b[0m \u001b[0;34m=\u001b[0m \u001b[0mfull_objective\u001b[0m\u001b[0;34m(\u001b[0m\u001b[0mmodel\u001b[0m\u001b[0;34m,\u001b[0m \u001b[0;34m'0'\u001b[0m\u001b[0;34m,\u001b[0m \u001b[0mx_batch\u001b[0m\u001b[0;34m.\u001b[0m\u001b[0mcuda\u001b[0m\u001b[0;34m(\u001b[0m\u001b[0;34m)\u001b[0m\u001b[0;34m,\u001b[0m \u001b[0my_batch\u001b[0m\u001b[0;34m.\u001b[0m\u001b[0mcuda\u001b[0m\u001b[0;34m(\u001b[0m\u001b[0;34m)\u001b[0m\u001b[0;34m)\u001b[0m\u001b[0;34m\u001b[0m\u001b[0;34m\u001b[0m\u001b[0m\n\u001b[0m\u001b[1;32m     16\u001b[0m             \u001b[0mobj\u001b[0m\u001b[0;34m.\u001b[0m\u001b[0mbackward\u001b[0m\u001b[0;34m(\u001b[0m\u001b[0;34m)\u001b[0m\u001b[0;34m\u001b[0m\u001b[0;34m\u001b[0m\u001b[0m\n\u001b[1;32m     17\u001b[0m             \u001b[0;32mif\u001b[0m \u001b[0miteration\u001b[0m \u001b[0;34m%\u001b[0m \u001b[0maccumulate_gradient\u001b[0m \u001b[0;34m==\u001b[0m \u001b[0maccumulate_gradient\u001b[0m \u001b[0;34m-\u001b[0m \u001b[0;36m1\u001b[0m\u001b[0;34m:\u001b[0m\u001b[0;34m\u001b[0m\u001b[0;34m\u001b[0m\u001b[0m\n",
      "\u001b[0;31mKeyboardInterrupt\u001b[0m: "
     ]
    }
   ],
   "source": [
    "model.train()\n",
    "accumulate_gradient=1\n",
    "schedule = [0.005]\n",
    "n_epochs = 100\n",
    "\n",
    "for opt, lr in zip(repeat(torch.optim.Adam), schedule):\n",
    "    print('Training with learning rate', lr)\n",
    "    optimizer = opt(model.parameters(), lr=lr)\n",
    "    optimizer.zero_grad()\n",
    "    iteration = 0\n",
    "    assert accumulate_gradient > 0, 'accumulate_gradient needs to be > 0'\n",
    "    for epoch in range(n_epochs):\n",
    "        for x_batch, y_batch in training_generator:\n",
    "            \n",
    "            obj = full_objective(model, '0', x_batch.cuda(), y_batch.cuda())\n",
    "            obj.backward()\n",
    "            if iteration % accumulate_gradient == accumulate_gradient - 1:\n",
    "                optimizer.step()\n",
    "                optimizer.zero_grad()\n",
    "            iteration += 1 \n",
    "            if iteration % 100 == 0:\n",
    "                model.eval()\n",
    "                true, preds = compute_predictions(validation_generator, model)\n",
    "                print('Val correlation:', np.mean([pearsonr(true[:,i], preds[:,i])[0] for i in range(true.shape[1])]))\n",
    "                model.train()"
   ]
  },
  {
   "cell_type": "markdown",
   "metadata": {},
   "source": [
    "# Compute performance on validation"
   ]
  },
  {
   "cell_type": "code",
   "execution_count": 19,
   "metadata": {},
   "outputs": [
    {
     "name": "stdout",
     "output_type": "stream",
     "text": [
      "0.140989\n"
     ]
    }
   ],
   "source": [
    "model.eval()\n",
    "true, preds = compute_predictions(validation_generator, model)\n",
    "print(np.mean([pearsonr(true[:,i], preds[:,i])[0] for i in range(true.shape[1])]))"
   ]
  },
  {
   "cell_type": "markdown",
   "metadata": {},
   "source": [
    "# Test set performance"
   ]
  },
  {
   "cell_type": "code",
   "execution_count": 20,
   "metadata": {},
   "outputs": [],
   "source": [
    "torch.save(model, \"final_models/17797-8-5_3DResNet_first_block.pt\")"
   ]
  },
  {
   "cell_type": "code",
   "execution_count": 21,
   "metadata": {},
   "outputs": [],
   "source": [
    "class Dataset_test(torch.utils.data.Dataset):\n",
    "  'Characterizes a dataset for PyTorch'\n",
    "  def __init__(self):\n",
    "        'Initialization'\n",
    "        \n",
    "        with open('/home/mk2299/Mice_experiments/Sinz2018_NIPS/Sinz2018_NIPS_data/cache/17797-8-5_test.pkl', 'rb') as pkl_file:\n",
    "            self.data_dict = pickle.load(pkl_file)\n",
    "        self.list_IDs = np.arange(len(self.data_dict['stims_test']))\n",
    "\n",
    "  def __len__(self):\n",
    "        'Denotes the total number of samples'\n",
    "        return len(self.list_IDs)\n",
    "\n",
    "  def __getitem__(self, index):\n",
    "        'Generates one sample of data'\n",
    "        # Select sample\n",
    "        ID = self.list_IDs[index]\n",
    "\n",
    "        # Load data and get label\n",
    "        X = self.data_dict['stims_test'][ID]\n",
    "        y = self.data_dict['responses_test'][ID]\n",
    "        #start_idx = np.random.randint(X.shape[1]-151)\n",
    "        return np.repeat(X,3,0), y  #X[:,start_idx:start_idx + 150], y[start_idx:start_idx + 150]"
   ]
  },
  {
   "cell_type": "code",
   "execution_count": 25,
   "metadata": {},
   "outputs": [],
   "source": [
    "PerformanceScores = namedtuple('PerformanceScores', ['pearson'])\n",
    "\n",
    "\n",
    "def compute_scores(y, y_hat, axis=0):\n",
    "    pearson = corr(y, y_hat, axis=axis)\n",
    "    return PerformanceScores(pearson=pearson)\n",
    "\n",
    "def compute_predictions(loader, model, readout_key = '0', reshape=True, stack=True, return_lag=False):\n",
    "    y, y_hat = [], []\n",
    "    for x_val, y_val in loader:\n",
    "        neurons = y_val.size(-1)\n",
    "        for t in range(x_val.size(2)//150):\n",
    "            y_mod = model(x_val[:,:,t*150:(t+1)*150].cuda(), readout_key).data.cpu().numpy()\n",
    "            \n",
    "            lag = y_val[:,t*150:(t+1)*150].shape[1] - y_mod.shape[1] \n",
    "            if reshape:\n",
    "                y.append((y_val[:,t*150:(t+1)*150])[:, lag:, :].numpy().reshape((-1, neurons)))\n",
    "                y_hat.append(y_mod.reshape((-1, neurons)))\n",
    "            else:\n",
    "                y.append((y_val[:,t*150:(t+1)*150])[:, lag:, :].numpy())\n",
    "                y_hat.append(y_mod)\n",
    "    if stack:\n",
    "        y, y_hat = np.vstack(y), np.vstack(y_hat)\n",
    "    if not return_lag:\n",
    "        return y, y_hat\n",
    "    else:\n",
    "        return y, y_hat, lag\n",
    "    \n"
   ]
  },
  {
   "cell_type": "code",
   "execution_count": 26,
   "metadata": {},
   "outputs": [],
   "source": [
    "params = {'batch_size': 1,\n",
    "          'shuffle': False,\n",
    "          'num_workers': 6}\n",
    "test_set = Dataset_test()\n",
    "test_generator = torch.utils.data.DataLoader(test_set, **params)"
   ]
  },
  {
   "cell_type": "code",
   "execution_count": 27,
   "metadata": {},
   "outputs": [
    {
     "name": "stdout",
     "output_type": "stream",
     "text": [
      "(56700, 4692) (56700, 4692)\n",
      "0.15365921\n"
     ]
    }
   ],
   "source": [
    "true, preds = compute_predictions(test_generator, model)\n",
    "print(true.shape, preds.shape)\n",
    "corrs = np.array([pearsonr(true[:,i], preds[:,i])[0] for i in range(true.shape[1])])\n",
    "print(np.nanmean(corrs))"
   ]
  }
 ],
 "metadata": {
  "kernelspec": {
   "display_name": "Python 3",
   "language": "python",
   "name": "python3"
  },
  "language_info": {
   "codemirror_mode": {
    "name": "ipython",
    "version": 3
   },
   "file_extension": ".py",
   "mimetype": "text/x-python",
   "name": "python",
   "nbconvert_exporter": "python",
   "pygments_lexer": "ipython3",
   "version": "3.6.7"
  }
 },
 "nbformat": 4,
 "nbformat_minor": 2
}
